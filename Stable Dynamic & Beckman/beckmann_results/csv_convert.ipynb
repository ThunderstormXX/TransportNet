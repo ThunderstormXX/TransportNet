{
 "cells": [
  {
   "cell_type": "code",
   "execution_count": 1,
   "metadata": {},
   "outputs": [],
   "source": [
    "import pandas as pd\n",
    "\n"
   ]
  },
  {
   "cell_type": "code",
   "execution_count": 5,
   "metadata": {},
   "outputs": [],
   "source": [
    "name = './Stable Dynamic & Beckman/beckmann_results/cfwm_1200_CHICAGO.csv'\n",
    "new_name = './Stable Dynamic & Beckman/beckmann_results/cfwm_1200_CHICAGO_XY.csv'\n",
    "df = pd.read_csv(name, header=None, names=['y'])\n",
    "df['x'] = range(1, len(df) + 1)\n",
    "ordered_df = df[['x','y']]\n",
    "ordered_df.to_csv(new_name, index=False)"
   ]
  },
  {
   "cell_type": "code",
   "execution_count": 12,
   "metadata": {},
   "outputs": [],
   "source": [
    "import os\n",
    "\n",
    "folder_path = './Stable Dynamic & Beckman/beckmann_results/'\n",
    "files = os.listdir(folder_path)\n",
    "\n",
    "for file in files:\n",
    "    if file.startswith('fwm') or file.startswith('cfwm'):\n",
    "        name = str(os.path.join(folder_path, file))\n",
    "        new_name = name[0:-4] + '_new.csv'\n",
    "        # print(new_name)\n",
    "        df = pd.read_csv(name, header=None, names=['y'])\n",
    "        df['x'] = range(1, len(df) + 1)\n",
    "        ordered_df = df[['x','y']]\n",
    "        ordered_df.to_csv(new_name, index=False)"
   ]
  },
  {
   "attachments": {},
   "cell_type": "markdown",
   "metadata": {},
   "source": [
    "## From 12000 to 1200"
   ]
  },
  {
   "cell_type": "code",
   "execution_count": 24,
   "metadata": {},
   "outputs": [
    {
     "name": "stdout",
     "output_type": "stream",
     "text": [
      "./Stable Dynamic & Beckman/beckmann_results/cfwm_linesearch_12000_ANAHEIM.csv\n",
      "./Stable Dynamic & Beckman/beckmann_results/cfwm_12000_ANAHEIM.csv\n",
      "./Stable Dynamic & Beckman/beckmann_results/fwm_12000_ANAHEIM.csv\n",
      "./Stable Dynamic & Beckman/beckmann_results/fwm_linesearch_12000_ANAHEIM.csv\n"
     ]
    }
   ],
   "source": [
    "for file in files:\n",
    "    name = str(os.path.join(folder_path, file))\n",
    "    if 'fwm' in name and '12000' in name :\n",
    "        # name = str(os.path.join(folder_path, file))\n",
    "        new_name = name[0:-4] + '_new_compressed.csv'\n",
    "        print(name)\n",
    "        df = pd.read_csv(name, header=None, names=['y'])\n",
    "        df['x'] = range(1, len(df) + 1)\n",
    "        ordered_df = df[['x','y']]\n",
    "        ordered_df= ordered_df.iloc[::10]\n",
    "        ordered_df.to_csv(new_name, index=False)\n"
   ]
  },
  {
   "cell_type": "code",
   "execution_count": null,
   "metadata": {},
   "outputs": [],
   "source": []
  }
 ],
 "metadata": {
  "kernelspec": {
   "display_name": "gt",
   "language": "python",
   "name": "python3"
  },
  "language_info": {
   "codemirror_mode": {
    "name": "ipython",
    "version": 3
   },
   "file_extension": ".py",
   "mimetype": "text/x-python",
   "name": "python",
   "nbconvert_exporter": "python",
   "pygments_lexer": "ipython3",
   "version": "3.8.16"
  },
  "orig_nbformat": 4
 },
 "nbformat": 4,
 "nbformat_minor": 2
}
