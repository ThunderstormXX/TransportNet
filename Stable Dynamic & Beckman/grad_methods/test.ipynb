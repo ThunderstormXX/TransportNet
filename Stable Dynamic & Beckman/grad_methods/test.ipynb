{
 "cells": [
  {
   "cell_type": "code",
   "execution_count": 3,
   "metadata": {},
   "outputs": [],
   "source": [
    "import numpy as np"
   ]
  },
  {
   "cell_type": "code",
   "execution_count": 17,
   "metadata": {},
   "outputs": [
    {
     "data": {
      "text/plain": [
       "array([195, 113,  39])"
      ]
     },
     "execution_count": 17,
     "metadata": {},
     "output_type": "execute_result"
    }
   ],
   "source": [
    "d_list = np.array([[1,2,7,3],[1,2,5,2],[1,1,2,3]])\n",
    "hessian = [2,7,3,2]\n",
    "\n",
    "np.sum(d_list*hessian*d_list, axis=1)"
   ]
  },
  {
   "cell_type": "code",
   "execution_count": 41,
   "metadata": {},
   "outputs": [
    {
     "data": {
      "text/plain": [
       "array([1, 2, 3])"
      ]
     },
     "execution_count": 41,
     "metadata": {},
     "output_type": "execute_result"
    }
   ],
   "source": [
    "# alpha = np.array([1,2])\n",
    "alpha = np.array([1])\n",
    "# S_list = np.array([[1,2,3] , [4,5,6]])\n",
    "S_list = np.array([[1,2,3]])\n",
    "np.sum(alpha*S_list.T , axis=1)"
   ]
  },
  {
   "cell_type": "code",
   "execution_count": 58,
   "metadata": {},
   "outputs": [
    {
     "name": "stdout",
     "output_type": "stream",
     "text": [
      "<class 'numpy.int64'>\n",
      "[1 2]\n"
     ]
    }
   ],
   "source": [
    "m = 6\n",
    "\n",
    "b = np.array([[2,3],[1,2]])\n",
    "a = np.array([1,2,8,3,4,4,3,6])\n",
    "print(type(a[-1]))\n",
    "\n",
    "print(b[-1])\n",
    "# print(a[-6])"
   ]
  },
  {
   "cell_type": "code",
   "execution_count": 28,
   "metadata": {},
   "outputs": [
    {
     "name": "stdout",
     "output_type": "stream",
     "text": [
      "[ 10 136 150] [ 10 161 180] [0.1 0.2 0.5]\n",
      "0\n",
      "0\n",
      "1\n",
      "1\n",
      "2\n",
      "2\n"
     ]
    }
   ],
   "source": [
    "d_list = np.array([[1,2,0,0, 0] , [0,0,3 , 5, 0] , [0,0,0,0,6]])\n",
    "dk_FW = np.array([1,2,3,4,5])\n",
    "hessian = np.array([2,2,4,5,5])\n",
    "c = 1 - np.array([0.9,0.8,0.5]) \n",
    "B = np.sum(d_list*hessian*d_list , axis=1)\n",
    "A = np.sum(d_list*hessian*dk_FW ,axis = 1 )\n",
    "\n",
    "print(A , B , c)\n",
    "\n",
    "N = len(B)\n",
    "alpha = [0]*N\n",
    "alpha_sum = 0\n",
    "for j in range(N) :\n",
    "    alpha[N-1-j] =  -c[j]*B[j]/(A[j] + alpha_sum*B[j]*(c[j] - 1)) \n",
    "    alpha_sum = alpha_sum + 1/alpha[N-1-j]\n",
    "alpha_0 = 1/(1+alpha_sum)\n",
    "alpha = alpha_0 / alpha\n",
    "\n"
   ]
  },
  {
   "cell_type": "code",
   "execution_count": 21,
   "metadata": {},
   "outputs": [
    {
     "name": "stdout",
     "output_type": "stream",
     "text": [
      "1\n",
      "2\n"
     ]
    }
   ],
   "source": [
    "a = np.array([1,2,3])\n",
    "\n",
    "\n",
    "for j in range(2) :\n",
    "    print(a[j])"
   ]
  },
  {
   "cell_type": "code",
   "execution_count": null,
   "metadata": {},
   "outputs": [],
   "source": []
  }
 ],
 "metadata": {
  "kernelspec": {
   "display_name": "gt",
   "language": "python",
   "name": "python3"
  },
  "language_info": {
   "codemirror_mode": {
    "name": "ipython",
    "version": 3
   },
   "file_extension": ".py",
   "mimetype": "text/x-python",
   "name": "python",
   "nbconvert_exporter": "python",
   "pygments_lexer": "ipython3",
   "version": "3.8.16"
  },
  "orig_nbformat": 4
 },
 "nbformat": 4,
 "nbformat_minor": 2
}
